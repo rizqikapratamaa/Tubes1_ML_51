{
 "cells": [
  {
   "cell_type": "code",
   "execution_count": 1,
   "metadata": {},
   "outputs": [],
   "source": [
    "from sklearn import datasets\n",
    "from sklearn.model_selection import train_test_split\n",
    "from sklearn.preprocessing import MinMaxScaler\n",
    "from sklearn.datasets import fetch_openml\n",
    "import numpy as np\n",
    "from Plotter import *\n",
    "from FFNN import FFNN\n",
    "from sklearn.neural_network import MLPClassifier"
   ]
  },
  {
   "cell_type": "code",
   "execution_count": 2,
   "metadata": {},
   "outputs": [],
   "source": [
    "mnist = fetch_openml('mnist_784', version=1, as_frame=False)\n",
    "X = mnist.data\n",
    "y = mnist.target.astype(np.int32)\n",
    "\n",
    "np.random.seed(42)\n",
    "indices = np.random.choice(len(X), 20000, replace=False)\n",
    "X = X[indices]\n",
    "y = y[indices]\n",
    "\n",
    "scaler = MinMaxScaler()\n",
    "X = scaler.fit_transform(X)\n",
    "\n",
    "y_one_hot = np.zeros((len(y), 10))\n",
    "y_one_hot[np.arange(len(y)), y] = 1\n",
    "\n",
    "X_train, X_temp, y_train, y_temp = train_test_split(X, y_one_hot, test_size=0.3, random_state=42)\n",
    "X_val, X_test, y_val, y_test = train_test_split(X_temp, y_temp, test_size=0.5, random_state=42)\n",
    "\n",
    "plotter = Plotter()"
   ]
  },
  {
   "cell_type": "code",
   "execution_count": 3,
   "metadata": {},
   "outputs": [
    {
     "name": "stderr",
     "output_type": "stream",
     "text": [
      "Epoch 1/20: 100%|████████████████████████████████████| 438/438 [00:04<00:00, 102.24it/s, loss=0.182]\n"
     ]
    },
    {
     "name": "stdout",
     "output_type": "stream",
     "text": [
      "Train Loss: 0.1819 - Val Loss: 0.0868\n"
     ]
    },
    {
     "name": "stderr",
     "output_type": "stream",
     "text": [
      "Epoch 2/20: 100%|███████████████████████████████████| 438/438 [00:03<00:00, 110.33it/s, loss=0.0739]\n"
     ]
    },
    {
     "name": "stdout",
     "output_type": "stream",
     "text": [
      "Train Loss: 0.0739 - Val Loss: 0.0640\n"
     ]
    },
    {
     "name": "stderr",
     "output_type": "stream",
     "text": [
      "Epoch 3/20: 100%|███████████████████████████████████| 438/438 [00:04<00:00, 107.27it/s, loss=0.0628]\n"
     ]
    },
    {
     "name": "stdout",
     "output_type": "stream",
     "text": [
      "Train Loss: 0.0628 - Val Loss: 0.0593\n"
     ]
    },
    {
     "name": "stderr",
     "output_type": "stream",
     "text": [
      "Epoch 4/20: 100%|████████████████████████████████████| 438/438 [00:04<00:00, 97.76it/s, loss=0.0598]\n"
     ]
    },
    {
     "name": "stdout",
     "output_type": "stream",
     "text": [
      "Train Loss: 0.0598 - Val Loss: 0.0576\n"
     ]
    },
    {
     "name": "stderr",
     "output_type": "stream",
     "text": [
      "Epoch 5/20: 100%|███████████████████████████████████| 438/438 [00:04<00:00, 105.75it/s, loss=0.0584]\n"
     ]
    },
    {
     "name": "stdout",
     "output_type": "stream",
     "text": [
      "Train Loss: 0.0584 - Val Loss: 0.0566\n"
     ]
    },
    {
     "name": "stderr",
     "output_type": "stream",
     "text": [
      "Epoch 6/20: 100%|███████████████████████████████████| 438/438 [00:01<00:00, 253.57it/s, loss=0.0575]\n"
     ]
    },
    {
     "name": "stdout",
     "output_type": "stream",
     "text": [
      "Train Loss: 0.0575 - Val Loss: 0.0558\n"
     ]
    },
    {
     "name": "stderr",
     "output_type": "stream",
     "text": [
      "Epoch 7/20: 100%|███████████████████████████████████| 438/438 [00:04<00:00, 104.45it/s, loss=0.0568]\n"
     ]
    },
    {
     "name": "stdout",
     "output_type": "stream",
     "text": [
      "Train Loss: 0.0568 - Val Loss: 0.0555\n"
     ]
    },
    {
     "name": "stderr",
     "output_type": "stream",
     "text": [
      "Epoch 8/20: 100%|████████████████████████████████████| 438/438 [00:05<00:00, 81.56it/s, loss=0.0562]\n"
     ]
    },
    {
     "name": "stdout",
     "output_type": "stream",
     "text": [
      "Train Loss: 0.0562 - Val Loss: 0.0551\n"
     ]
    },
    {
     "name": "stderr",
     "output_type": "stream",
     "text": [
      "Epoch 9/20: 100%|████████████████████████████████████| 438/438 [00:19<00:00, 22.96it/s, loss=0.0557]\n"
     ]
    },
    {
     "name": "stdout",
     "output_type": "stream",
     "text": [
      "Train Loss: 0.0557 - Val Loss: 0.0548\n"
     ]
    },
    {
     "name": "stderr",
     "output_type": "stream",
     "text": [
      "Epoch 10/20: 100%|███████████████████████████████████| 438/438 [00:05<00:00, 74.58it/s, loss=0.0553]\n"
     ]
    },
    {
     "name": "stdout",
     "output_type": "stream",
     "text": [
      "Train Loss: 0.0553 - Val Loss: 0.0545\n"
     ]
    },
    {
     "name": "stderr",
     "output_type": "stream",
     "text": [
      "Epoch 11/20: 100%|███████████████████████████████████| 438/438 [00:03<00:00, 112.42it/s, loss=0.055]\n"
     ]
    },
    {
     "name": "stdout",
     "output_type": "stream",
     "text": [
      "Train Loss: 0.0550 - Val Loss: 0.0544\n"
     ]
    },
    {
     "name": "stderr",
     "output_type": "stream",
     "text": [
      "Epoch 12/20: 100%|███████████████████████████████████| 438/438 [00:04<00:00, 95.23it/s, loss=0.0547]\n"
     ]
    },
    {
     "name": "stdout",
     "output_type": "stream",
     "text": [
      "Train Loss: 0.0547 - Val Loss: 0.0541\n"
     ]
    },
    {
     "name": "stderr",
     "output_type": "stream",
     "text": [
      "Epoch 13/20: 100%|██████████████████████████████████| 438/438 [00:01<00:00, 250.16it/s, loss=0.0544]\n"
     ]
    },
    {
     "name": "stdout",
     "output_type": "stream",
     "text": [
      "Train Loss: 0.0544 - Val Loss: 0.0538\n"
     ]
    },
    {
     "name": "stderr",
     "output_type": "stream",
     "text": [
      "Epoch 14/20: 100%|██████████████████████████████████| 438/438 [00:03<00:00, 111.23it/s, loss=0.0542]\n"
     ]
    },
    {
     "name": "stdout",
     "output_type": "stream",
     "text": [
      "Train Loss: 0.0542 - Val Loss: 0.0536\n"
     ]
    },
    {
     "name": "stderr",
     "output_type": "stream",
     "text": [
      "Epoch 15/20: 100%|████████████████████████████████████| 438/438 [00:04<00:00, 91.08it/s, loss=0.054]\n"
     ]
    },
    {
     "name": "stdout",
     "output_type": "stream",
     "text": [
      "Train Loss: 0.0540 - Val Loss: 0.0535\n"
     ]
    },
    {
     "name": "stderr",
     "output_type": "stream",
     "text": [
      "Epoch 16/20: 100%|██████████████████████████████████| 438/438 [00:04<00:00, 101.99it/s, loss=0.0538]\n"
     ]
    },
    {
     "name": "stdout",
     "output_type": "stream",
     "text": [
      "Train Loss: 0.0538 - Val Loss: 0.0534\n"
     ]
    },
    {
     "name": "stderr",
     "output_type": "stream",
     "text": [
      "Epoch 17/20: 100%|███████████████████████████████████| 438/438 [00:05<00:00, 75.66it/s, loss=0.0537]\n"
     ]
    },
    {
     "name": "stdout",
     "output_type": "stream",
     "text": [
      "Train Loss: 0.0537 - Val Loss: 0.0534\n"
     ]
    },
    {
     "name": "stderr",
     "output_type": "stream",
     "text": [
      "Epoch 18/20: 100%|███████████████████████████████████| 438/438 [00:04<00:00, 92.95it/s, loss=0.0536]\n"
     ]
    },
    {
     "name": "stdout",
     "output_type": "stream",
     "text": [
      "Train Loss: 0.0536 - Val Loss: 0.0533\n"
     ]
    },
    {
     "name": "stderr",
     "output_type": "stream",
     "text": [
      "Epoch 19/20: 100%|██████████████████████████████████| 438/438 [00:04<00:00, 102.57it/s, loss=0.0535]\n"
     ]
    },
    {
     "name": "stdout",
     "output_type": "stream",
     "text": [
      "Train Loss: 0.0535 - Val Loss: 0.0533\n"
     ]
    },
    {
     "name": "stderr",
     "output_type": "stream",
     "text": [
      "Epoch 20/20: 100%|██████████████████████████████████| 438/438 [00:02<00:00, 216.20it/s, loss=0.0534]\n"
     ]
    },
    {
     "name": "stdout",
     "output_type": "stream",
     "text": [
      "Train Loss: 0.0534 - Val Loss: 0.0533\n",
      "Akurasi: 93.87%\n"
     ]
    }
   ],
   "source": [
    "ffnn1 = FFNN(\n",
    "    input_size=784,\n",
    "    hidden_sizes=[256, 128],\n",
    "    output_size=10,\n",
    "    learning_rate=0.001,\n",
    "    hidden_activations=['relu', 'relu'],\n",
    "    output_activation='softmax',\n",
    "    loss_function='cce',\n",
    "    reg_type='l2',\n",
    "    reg_lambda=0.001,\n",
    "    rms_norm=True,\n",
    "    init_type='he',\n",
    "    seed=69420\n",
    ")\n",
    "ffnn1.train(X_train, y_train, X_val, y_val, epochs=20, batch_size=32, verbose=1)\n",
    "\n",
    "correct = 0\n",
    "for inputs, target in zip(X_test, y_test):\n",
    "    prediction = ffnn1.predict(inputs)\n",
    "    predicted_class = np.argmax(prediction)\n",
    "    actual_class = np.argmax(target)\n",
    "    if predicted_class == actual_class:\n",
    "        correct += 1\n",
    "\n",
    "print(f\"Akurasi: {correct / len(y_test) * 100:.2f}%\")"
   ]
  },
  {
   "cell_type": "code",
   "execution_count": 4,
   "metadata": {},
   "outputs": [
    {
     "name": "stdout",
     "output_type": "stream",
     "text": [
      "Iteration 1, loss = 1.21972639\n",
      "Iteration 2, loss = 0.49444455\n",
      "Iteration 3, loss = 0.38550593\n",
      "Iteration 4, loss = 0.33954617\n",
      "Iteration 5, loss = 0.31066893\n",
      "Iteration 6, loss = 0.28913245\n",
      "Iteration 7, loss = 0.27208631\n",
      "Iteration 8, loss = 0.25698826\n",
      "Iteration 9, loss = 0.24424115\n",
      "Iteration 10, loss = 0.23139987\n",
      "Iteration 11, loss = 0.22132095\n",
      "Iteration 12, loss = 0.21115191\n",
      "Iteration 13, loss = 0.20025512\n",
      "Iteration 14, loss = 0.19162418\n",
      "Iteration 15, loss = 0.18404004\n",
      "Iteration 16, loss = 0.17581353\n",
      "Iteration 17, loss = 0.16876379\n",
      "Iteration 18, loss = 0.16120813\n",
      "Iteration 19, loss = 0.15508919\n",
      "Iteration 20, loss = 0.14790595\n",
      "Akurasi: 93.97%\n"
     ]
    },
    {
     "name": "stderr",
     "output_type": "stream",
     "text": [
      "/mnt/c/Ea/coolyeah/semester 6/em el/tubes/tubes 1/Tubes1_ML_51/env_tubes/lib/python3.12/site-packages/sklearn/neural_network/_multilayer_perceptron.py:691: ConvergenceWarning: Stochastic Optimizer: Maximum iterations (20) reached and the optimization hasn't converged yet.\n",
      "  warnings.warn(\n"
     ]
    }
   ],
   "source": [
    "mlp = MLPClassifier(\n",
    "    hidden_layer_sizes=(256, 128),\n",
    "    activation='relu',\n",
    "    solver='sgd',\n",
    "    learning_rate_init=0.001,\n",
    "    alpha=0.001,\n",
    "    max_iter=20,\n",
    "    batch_size=32,\n",
    "    random_state=69420,\n",
    "    verbose=True\n",
    ")\n",
    "\n",
    "mlp.fit(X_train, np.argmax(y_train, axis=1))\n",
    "\n",
    "correct = 0\n",
    "predictions = mlp.predict(X_test)\n",
    "actual_classes = np.argmax(y_test, axis=1)\n",
    "\n",
    "for pred, actual in zip(predictions, actual_classes):\n",
    "    if pred == actual:\n",
    "        correct += 1\n",
    "\n",
    "accuracy = correct / len(y_test) * 100\n",
    "print(f\"Akurasi: {accuracy:.2f}%\")"
   ]
  }
 ],
 "metadata": {
  "kernelspec": {
   "display_name": "Python 3 (ipykernel)",
   "language": "python",
   "name": "python3"
  },
  "language_info": {
   "codemirror_mode": {
    "name": "ipython",
    "version": 3
   },
   "file_extension": ".py",
   "mimetype": "text/x-python",
   "name": "python",
   "nbconvert_exporter": "python",
   "pygments_lexer": "ipython3",
   "version": "3.12.3"
  }
 },
 "nbformat": 4,
 "nbformat_minor": 2
}
